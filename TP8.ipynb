{
 "cells": [
  {
   "cell_type": "code",
   "execution_count": null,
   "metadata": {},
   "outputs": [
    {
     "name": "stdout",
     "output_type": "stream",
     "text": [
      "  (Left)\n",
      "SFFF\n",
      "FHFH\n",
      "\u001b[41mF\u001b[0mFFH\n",
      "HFFG\n"
     ]
    }
   ],
   "source": [
    "import gym\n",
    "import numpy as np\n",
    "import time, pickle, os\n",
    "from IPython.display import clear_output\n",
    "\n",
    "env = gym.make('FrozenLake-v0')\n",
    "\n",
    "epsilon = 0.9\n",
    "# min_epsilon = 0.1\n",
    "# max_epsilon = 1.0\n",
    "# decay_rate = 0.01\n",
    "\n",
    "total_episodes = 10000\n",
    "max_steps = 100\n",
    "\n",
    "lr_rate = 0.81\n",
    "gamma = 0.96\n",
    "\n",
    "Q = np.zeros((env.observation_space.n, env.action_space.n))\n",
    "    \n",
    "def choose_action(state):\n",
    "\taction=0\n",
    "\tif np.random.uniform(0, 1) < epsilon:\n",
    "\t\taction = env.action_space.sample()\n",
    "\telse:\n",
    "\t\taction = np.argmax(Q[state, :])\n",
    "\treturn action\n",
    "\n",
    "def learn(state, state2, reward, action, action2):\n",
    "\tpredict = Q[state, action]\n",
    "\ttarget = reward + gamma * Q[state2, action2]\n",
    "\tQ[state, action] = Q[state, action] + lr_rate * (target - predict)\n",
    "\n",
    "# Start\n",
    "rewards=0\n",
    "\n",
    "for episode in range(total_episodes):\n",
    "\tt = 0\n",
    "\tstate = env.reset()\n",
    "\taction = choose_action(state)\n",
    "    \n",
    "\twhile t < max_steps:\n",
    "\t\tclear_output(wait=True)\n",
    "\t\tenv.render()\n",
    "\n",
    "\t\tstate2, reward, done, info = env.step(action)\n",
    "\n",
    "\t\taction2 = choose_action(state2)\n",
    "\n",
    "\t\tlearn(state, state2, reward, action, action2)\n",
    "\n",
    "\t\tstate = state2\n",
    "\t\taction = action2\n",
    "\n",
    "\t\tt += 1\n",
    "\t\trewards+=1\n",
    "\n",
    "\t\tif done:\n",
    "\t\t\tbreak\n",
    "  # epsilon = min_epsilon + (max_epsilon - min_epsilon) * np.exp(-decay_rate * episode) \n",
    "  # os.system('clear')\n",
    "\t\ttime.sleep(0.1)\n",
    "\n",
    "    \n",
    "print (\"Score over time: \", rewards/total_episodes)\n",
    "print(Q)"
   ]
  },
  {
   "cell_type": "code",
   "execution_count": null,
   "metadata": {},
   "outputs": [],
   "source": []
  }
 ],
 "metadata": {
  "kernelspec": {
   "display_name": "Python 3",
   "language": "python",
   "name": "python3"
  },
  "language_info": {
   "codemirror_mode": {
    "name": "ipython",
    "version": 3
   },
   "file_extension": ".py",
   "mimetype": "text/x-python",
   "name": "python",
   "nbconvert_exporter": "python",
   "pygments_lexer": "ipython3",
   "version": "3.6.8"
  }
 },
 "nbformat": 4,
 "nbformat_minor": 2
}
