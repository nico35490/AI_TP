{
 "cells": [
  {
   "cell_type": "code",
   "execution_count": 17,
   "metadata": {},
   "outputs": [],
   "source": [
    "from __future__ import print_function\n",
    "\n",
    "from keras.preprocessing import sequence\n",
    "from keras.models import Sequential\n",
    "from keras.layers import Dense, Embedding\n",
    "from keras.layers import LSTM\n",
    "from collections import Counter\n",
    "import os, sys\n",
    "from nltk.tokenize import RegexpTokenizer\n",
    "import numpy as np\n",
    "import keras\n",
    "\n",
    "\n",
    "data_path = 'ohsumed-first-20000-docs'\n",
    "# data_path = 'ohsumed-all'\n",
    "rep_train = 'training'\n",
    "rep_test = 'test'\n",
    "\n",
    "documents_train = {}\n",
    "documents_test = {}\n",
    "\n",
    "# words counting\n",
    "word_counter = Counter()\n",
    "for y in os.listdir(data_path + '/' + rep_train):\n",
    "    documents_train[y] = 0\n",
    "    for fichier in os.listdir(data_path + '/' + rep_train + '/' + y):\n",
    "        documents_train[y] += 1\n",
    "        with open(data_path + '/' + rep_train + '/' + y + '/' + fichier) as file:\n",
    "            article = file.read().lower()\n",
    "            tokenizer = RegexpTokenizer(r'\\w+')\n",
    "            words = tokenizer.tokenize(article)\n",
    "            word_counter.update(words)\n",
    "            \n",
    "for y in os.listdir(data_path + '/' + rep_test):\n",
    "    documents_test[y] = 0\n",
    "    for fichier in os.listdir(data_path + '/' + rep_test + '/' + y):\n",
    "        documents_test[y] += 1"
   ]
  },
  {
   "cell_type": "markdown",
   "metadata": {},
   "source": [
    "#### Analyse des données\n",
    "\n",
    "Taille du vocabulaires, fréquence des mots"
   ]
  },
  {
   "cell_type": "code",
   "execution_count": 11,
   "metadata": {},
   "outputs": [
    {
     "name": "stdout",
     "output_type": "stream",
     "text": [
      "30517\n"
     ]
    }
   ],
   "source": [
    "print(len(word_counter))"
   ]
  },
  {
   "cell_type": "code",
   "execution_count": 13,
   "metadata": {},
   "outputs": [
    {
     "data": {
      "text/plain": [
       "[('of', 191197),\n",
       " ('the', 190268),\n",
       " ('and', 128952),\n",
       " ('in', 124131),\n",
       " ('with', 69140),\n",
       " ('to', 68755),\n",
       " ('a', 68348),\n",
       " ('patients', 50174),\n",
       " ('was', 43078),\n",
       " ('were', 38666)]"
      ]
     },
     "execution_count": 13,
     "metadata": {},
     "output_type": "execute_result"
    }
   ],
   "source": [
    "Counter(word_counter).most_common(10)"
   ]
  },
  {
   "cell_type": "code",
   "execution_count": 15,
   "metadata": {},
   "outputs": [
    {
     "name": "stdout",
     "output_type": "stream",
     "text": [
      "{'C21': 546, 'C07': 100, 'C14': 1249, 'C08': 473, 'C04': 1163, 'C06': 588, 'C05': 283, 'C19': 191, 'C17': 295, 'C13': 281, 'C16': 200, 'C09': 125, 'C01': 423, 'C15': 215, 'C10': 621, 'C11': 162, 'C23': 1799, 'C20': 525, 'C18': 388, 'C03': 65, 'C02': 158, 'C22': 92, 'C12': 491}\n"
     ]
    }
   ],
   "source": [
    "print(documents_train)"
   ]
  },
  {
   "cell_type": "code",
   "execution_count": 18,
   "metadata": {},
   "outputs": [
    {
     "name": "stdout",
     "output_type": "stream",
     "text": [
      "{'C21': 717, 'C07': 146, 'C14': 1301, 'C08': 600, 'C04': 1467, 'C06': 632, 'C05': 429, 'C19': 191, 'C17': 348, 'C13': 386, 'C16': 228, 'C09': 129, 'C01': 506, 'C15': 320, 'C10': 941, 'C11': 202, 'C23': 2153, 'C20': 695, 'C18': 400, 'C03': 70, 'C02': 233, 'C22': 91, 'C12': 548}\n"
     ]
    }
   ],
   "source": [
    "print(documents_test)"
   ]
  },
  {
   "cell_type": "code",
   "execution_count": null,
   "metadata": {},
   "outputs": [],
   "source": [
    "import matplotlib.pyplot as plt\n",
    "\n",
    "dictionary = {1: 27, 34: 1, 3: 72, 4: 62, 5: 33, 6: 36, 7: 20, 8: 12, 9: 9, 10: 6, 11: 5, \n",
    "              12: 8, 2: 74, 14: 4, 15: 3, 16: 1, 17: 1, 18: 1, 19: 1, 21: 1, 27: 2}\n",
    "plt.bar(, dictionary.values(),list(dictionary.keys()), color='g')\n",
    "plt.show()"
   ]
  }
 ],
 "metadata": {
  "kernelspec": {
   "display_name": "Python 3",
   "language": "python",
   "name": "python3"
  },
  "language_info": {
   "codemirror_mode": {
    "name": "ipython",
    "version": 3
   },
   "file_extension": ".py",
   "mimetype": "text/x-python",
   "name": "python",
   "nbconvert_exporter": "python",
   "pygments_lexer": "ipython3",
   "version": "3.6.8"
  }
 },
 "nbformat": 4,
 "nbformat_minor": 2
}
