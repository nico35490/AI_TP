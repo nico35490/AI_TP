{
 "cells": [
  {
   "cell_type": "code",
   "execution_count": 7,
   "metadata": {},
   "outputs": [],
   "source": [
    "from __future__ import print_function\n",
    "\n",
    "from keras.preprocessing import sequence\n",
    "from keras.models import Sequential\n",
    "from keras.layers import Dense, Embedding\n",
    "from keras.layers import LSTM\n",
    "from collections import Counter\n",
    "import os, sys\n",
    "from nltk.tokenize import RegexpTokenizer\n",
    "import numpy as np\n",
    "import keras\n",
    "\n",
    "\n",
    "data_path = 'ohsumed-first-20000-docs'\n",
    "# data_path = 'ohsumed-all'\n",
    "rep_train = 'training'\n",
    "rep_test = 'test'\n",
    "\n",
    "\n",
    "\n",
    "documents_train = {}\n",
    "documents_test = {}\n",
    "\n",
    "# words counting\n",
    "word_counter = Counter()\n",
    "for y in os.listdir(data_path + '/' + rep_train):\n",
    "    documents_train[y] = 0\n",
    "    for fichier in os.listdir(data_path + '/' + rep_train + '/' + y):\n",
    "        documents_train[y] += 1\n",
    "        with open(data_path + '/' + rep_train + '/' + y + '/' + fichier) as file:\n",
    "            article = file.read().lower()\n",
    "            tokenizer = RegexpTokenizer(r'\\w+')\n",
    "            words = tokenizer.tokenize(article)\n",
    "            word_counter.update(words)\n",
    "            \n",
    "for y in os.listdir(data_path + '/' + rep_test):\n",
    "    documents_test[y] = 0\n",
    "    for fichier in os.listdir(data_path + '/' + rep_test + '/' + y):\n",
    "        documents_test[y] += 1"
   ]
  },
  {
   "cell_type": "markdown",
   "metadata": {},
   "source": [
    "#### Analyse des données\n",
    "\n",
    "Taille du vocabulaires, fréquence des mots"
   ]
  },
  {
   "cell_type": "code",
   "execution_count": 8,
   "metadata": {},
   "outputs": [
    {
     "name": "stdout",
     "output_type": "stream",
     "text": [
      "30517\n"
     ]
    }
   ],
   "source": [
    "print(len(word_counter))"
   ]
  },
  {
   "cell_type": "code",
   "execution_count": 9,
   "metadata": {},
   "outputs": [
    {
     "data": {
      "text/plain": [
       "[('the', 85037),\n",
       " ('of', 84510),\n",
       " ('and', 57271),\n",
       " ('in', 55122),\n",
       " ('to', 30870),\n",
       " ('with', 30625),\n",
       " ('a', 30493),\n",
       " ('patients', 22609),\n",
       " ('was', 19231),\n",
       " ('were', 16884)]"
      ]
     },
     "execution_count": 9,
     "metadata": {},
     "output_type": "execute_result"
    }
   ],
   "source": [
    "Counter(word_counter).most_common(10)"
   ]
  },
  {
   "cell_type": "code",
   "execution_count": 39,
   "metadata": {},
   "outputs": [
    {
     "name": "stdout",
     "output_type": "stream",
     "text": [
      "10433\n"
     ]
    }
   ],
   "source": [
    "nb_articles_train = 0\n",
    "for v in documents_train :\n",
    "    nb_articles_train += documents_train[v]\n",
    "print(nb_articles_train)"
   ]
  },
  {
   "cell_type": "code",
   "execution_count": 40,
   "metadata": {},
   "outputs": [
    {
     "name": "stdout",
     "output_type": "stream",
     "text": [
      "12733\n"
     ]
    }
   ],
   "source": [
    "nb_articles_test = 0\n",
    "for v in documents_test :\n",
    "    nb_articles_test += documents_test[v]\n",
    "print(nb_articles_test)"
   ]
  },
  {
   "cell_type": "code",
   "execution_count": 92,
   "metadata": {},
   "outputs": [
    {
     "data": {
      "image/png": "[encoded data removed]",
      "text/plain": [
       "<Figure size 720x288 with 1 Axes>"
      ]
     },
     "metadata": {
      "needs_background": "light"
     },
     "output_type": "display_data"
    }
   ],
   "source": [
    "import matplotlib.pyplot as plt\n",
    "%matplotlib inline \n",
    "plt.figure(figsize=(10,4))\n",
    "plt.bar(list(documents_train.keys()), documents_train.values(), color='g')\n",
    "plt.show()"
   ]
  },
  {
   "cell_type": "markdown",
   "metadata": {},
   "source": [
    "#### Préprocessing"
   ]
  },
  {
   "cell_type": "code",
   "execution_count": 114,
   "metadata": {},
   "outputs": [
    {
     "name": "stdout",
     "output_type": "stream",
     "text": [
      "0\n"
     ]
    }
   ],
   "source": [
    "global_nb_word = 20000\n",
    "wordlist = [key for key, _ in word_counter.most_common(global_nb_word)]\n",
    "print(wordlist.index(\"the\"))"
   ]
  },
  {
   "cell_type": "code",
   "execution_count": 127,
   "metadata": {},
   "outputs": [],
   "source": [
    "nb_word = 80\n",
    "\n",
    "x_train = []\n",
    "y_train = []\n",
    "x_test = []\n",
    "y_test = []\n",
    "\n",
    "for y in os.listdir(data_path + '/' + rep_train):\n",
    "    for fichier in os.listdir(data_path + '/' + rep_train + '/' + y):\n",
    "        with open(data_path + '/' + rep_train + '/' + y + '/' + fichier) as file:\n",
    "            l = []\n",
    "            article = file.read().lower()\n",
    "            tokenizer = RegexpTokenizer(r'\\w+')\n",
    "            words = tokenizer.tokenize(article)\n",
    "            for word in words:\n",
    "                    try:\n",
    "                        index = wordlist.index(word)\n",
    "                        l.append(index)\n",
    "                    except ValueError:\n",
    "                        pass\n",
    "            x_train.append(l)\n",
    "            y_train.append(int(y[1:]))\n",
    "                          \n",
    "for y in os.listdir(data_path + '/' + rep_test):\n",
    "    for fichier in os.listdir(data_path + '/' + rep_test + '/' + y):\n",
    "        with open(data_path + '/' + rep_test + '/' + y + '/' + fichier) as file:\n",
    "            l = []\n",
    "            article = file.read().lower()\n",
    "            tokenizer = RegexpTokenizer(r'\\w+')\n",
    "            words = tokenizer.tokenize(article)\n",
    "            for word in words:\n",
    "                    try:\n",
    "                        index = wordlist.index(word)\n",
    "                        l.append(index)\n",
    "                    except ValueError:\n",
    "                        pass\n",
    "            x_test.append(l)\n",
    "            y_test.append(int(y[1:]))\n",
    "\n",
    "\n",
    "        "
   ]
  },
  {
   "cell_type": "code",
   "execution_count": 128,
   "metadata": {},
   "outputs": [],
   "source": [
    "x_train= np.array(x_train)\n",
    "y_train= np.array(y_train)\n",
    "x_test= np.array(x_test)\n",
    "y_test= np.array(y_test)\n",
    "y_train -= 1\n",
    "y_test -= 1"
   ]
  },
  {
   "cell_type": "markdown",
   "metadata": {},
   "source": [
    "We have some correct datasets composed of vectors\n",
    "Now, we will format the datasets by cuting texts after a specific number of word and convert the class vectors to binary class matrices."
   ]
  },
  {
   "cell_type": "code",
   "execution_count": 129,
   "metadata": {},
   "outputs": [
    {
     "name": "stdout",
     "output_type": "stream",
     "text": [
      "Pad sequences (samples x time)\n",
      "x_train shape: (10433, 150)\n",
      "x_test shape: (12733, 150)\n"
     ]
    }
   ],
   "source": [
    "from keras.preprocessing import sequence\n",
    "from keras.models import Sequential\n",
    "from keras.layers import Dense, Embedding, Dropout\n",
    "from keras.layers import LSTM\n",
    "from keras.datasets import imdb\n",
    "\n",
    "\n",
    "# cut texts after this number of words (among top max_features most common words)\n",
    "maxlen = 150\n",
    "batch_size = 128\n",
    "num_classes = 23\n",
    "\n",
    "print('Pad sequences (samples x time)')\n",
    "x_train = sequence.pad_sequences(x_train, maxlen=maxlen)\n",
    "x_test = sequence.pad_sequences(x_test, maxlen=maxlen)\n",
    "print('x_train shape:', x_train.shape)\n",
    "print('x_test shape:', x_test.shape)\n",
    "\n",
    "# convert class vectors to binary class matrices\n",
    "y_train = keras.utils.to_categorical(y_train, num_classes)\n",
    "y_test = keras.utils.to_categorical(y_test, num_classes)\n"
   ]
  },
  {
   "cell_type": "markdown",
   "metadata": {},
   "source": [
    "Then we can create the neural network and train it. Then we will validate our model"
   ]
  },
  {
   "cell_type": "code",
   "execution_count": 130,
   "metadata": {},
   "outputs": [
    {
     "name": "stdout",
     "output_type": "stream",
     "text": [
      "Train...\n",
      "Train on 10433 samples, validate on 12733 samples\n",
      "Epoch 1/3\n",
      "10433/10433 [==============================] - 80s 8ms/step - loss: 4.5733 - acc: 0.0801 - val_loss: 3.5676 - val_acc: 0.1476\n",
      "Epoch 2/3\n",
      "10433/10433 [==============================] - 82s 8ms/step - loss: 3.1409 - acc: 0.1939 - val_loss: 3.0952 - val_acc: 0.1879\n",
      "Epoch 3/3\n",
      "10433/10433 [==============================] - 79s 8ms/step - loss: 2.8301 - acc: 0.2266 - val_loss: 3.1826 - val_acc: 0.1977\n",
      "12733/12733 [==============================] - 16s 1ms/step\n",
      "Test score: 3.182603502698605\n",
      "Test accuracy: 0.19767533180092564\n"
     ]
    }
   ],
   "source": [
    "model = Sequential()\n",
    "model.add(Embedding(global_nb_word, 128))\n",
    "model.add(Dropout(0.35))\n",
    "model.add(LSTM(128, dropout=0.2, recurrent_dropout=0.2))\n",
    "model.add(Dense(23, activation='relu'))\n",
    "\n",
    "model.compile(loss='categorical_crossentropy',\n",
    "              optimizer='adam',\n",
    "              metrics=['accuracy'])\n",
    "\n",
    "print('Train...')\n",
    "model.fit(x_train, y_train,\n",
    "          batch_size=batch_size,\n",
    "          epochs=3,\n",
    "          validation_data=(x_test, y_test))\n",
    "score, acc = model.evaluate(x_test, y_test,\n",
    "                            batch_size=batch_size)\n",
    "print('Test score:', score)\n",
    "print('Test accuracy:', acc)"
   ]
  },
  {
   "cell_type": "markdown",
   "metadata": {},
   "source": [
    "Le réseau ne semble pas apprendre efficacement. Certaines optimisations sont probablement necessaires si l'on veut des résultats plus convainca"
   ]
  }
 ],
 "metadata": {
  "kernelspec": {
   "display_name": "Python 3",
   "language": "python",
   "name": "python3"
  },
  "language_info": {
   "codemirror_mode": {
    "name": "ipython",
    "version": 3
   },
   "file_extension": ".py",
   "mimetype": "text/x-python",
   "name": "python",
   "nbconvert_exporter": "python",
   "pygments_lexer": "ipython3",
   "version": "3.6.8"
  }
 },
 "nbformat": 4,
 "nbformat_minor": 2
}
