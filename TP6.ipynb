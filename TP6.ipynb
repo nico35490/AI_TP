{
 "cells": [
  {
   "cell_type": "code",
   "execution_count": 79,
   "metadata": {},
   "outputs": [],
   "source": [
    "from __future__ import print_function\n",
    "\n",
    "from keras.preprocessing import sequence, image\n",
    "\n",
    "from keras.models import Sequential\n",
    "from keras.layers import Dense, Embedding, Dropout, Flatten\n",
    "from keras.layers import LSTM, Conv2D, MaxPooling2D\n",
    "from keras import backend as K\n",
    "from collections import Counter\n",
    "import os, sys\n",
    "from nltk.tokenize import RegexpTokenizer\n",
    "import numpy as np\n",
    "import keras\n",
    "import matplotlib.pyplot as plt\n",
    "from matplotlib.pyplot import imshow\n",
    "from PIL import Image, ImageFile\n",
    "ImageFile.LOAD_TRUNCATED_IMAGES = True\n",
    "from sklearn.model_selection import train_test_split\n",
    "%matplotlib inline "
   ]
  },
  {
   "cell_type": "code",
   "execution_count": 80,
   "metadata": {},
   "outputs": [
    {
     "name": "stdout",
     "output_type": "stream",
     "text": [
      "x_train shape : (1340, 80, 80, 3)\n"
     ]
    }
   ],
   "source": [
    "batch_size = 32\n",
    "num_classes = 2\n",
    "epochs = 15\n",
    "\n",
    "# input image dimensions\n",
    "img_rows, img_cols = 80, 80\n",
    "\n",
    "x = []\n",
    "y = []\n",
    "\n",
    "data_path = 'CatsDogs'\n",
    "\n",
    "for fichier in os.listdir(data_path):\n",
    "    if fichier.endswith(\".jpg\"):\n",
    "        x.append(np.array(image.load_img(data_path + '/' + fichier, target_size=(img_rows, img_cols))))\n",
    "        if fichier.startswith(\"dog\"):\n",
    "            y.append(1)\n",
    "        if fichier.startswith(\"cat\"):\n",
    "            y.append(0)\n",
    "            \n",
    "x = np.array(x)\n",
    "y = np.array(y)\n",
    "# the data, split between train and test sets\n",
    "x_train, x_test, y_train, y_test = train_test_split(x, y, test_size=0.33)\n",
    "    \n",
    "print(\"x_train shape :\",x_train.shape)"
   ]
  },
  {
   "cell_type": "code",
   "execution_count": 81,
   "metadata": {},
   "outputs": [
    {
     "name": "stdout",
     "output_type": "stream",
     "text": [
      "0 (chat) / 1 (chien) : 1\n"
     ]
    },
    {
     "data": {
      "image/png": "[encoded data removed]",
      "text/plain": [
       "<Figure size 432x288 with 1 Axes>"
      ]
     },
     "metadata": {
      "needs_background": "light"
     },
     "output_type": "display_data"
    }
   ],
   "source": [
    "imshow(x_train[0])\n",
    "print(\"0 (chat) / 1 (chien) :\",y_train[0])"
   ]
  },
  {
   "cell_type": "code",
   "execution_count": 82,
   "metadata": {},
   "outputs": [
    {
     "name": "stdout",
     "output_type": "stream",
     "text": [
      "x_train shape: (1340, 80, 80, 3)\n",
      "1340 train samples\n",
      "660 test samples\n"
     ]
    }
   ],
   "source": [
    "x_train = x_train.astype('float32')\n",
    "x_test = x_test.astype('float32')\n",
    "x_train /= 255\n",
    "x_test /= 255\n",
    "\n",
    "\n",
    "# convert class vectors to binary class matrices\n",
    "y_train = keras.utils.to_categorical(y_train, num_classes)\n",
    "y_test = keras.utils.to_categorical(y_test, num_classes)\n",
    "\n",
    "\n",
    "print('x_train shape:', x_train.shape)\n",
    "print(x_train.shape[0], 'train samples')\n",
    "print(x_test.shape[0], 'test samples')\n",
    "\n"
   ]
  },
  {
   "cell_type": "code",
   "execution_count": 83,
   "metadata": {},
   "outputs": [
    {
     "data": {
      "text/plain": [
       "array([[0., 1.],\n",
       "       [1., 0.],\n",
       "       [1., 0.],\n",
       "       ...,\n",
       "       [1., 0.],\n",
       "       [0., 1.],\n",
       "       [1., 0.]], dtype=float32)"
      ]
     },
     "execution_count": 83,
     "metadata": {},
     "output_type": "execute_result"
    }
   ],
   "source": [
    "y_train"
   ]
  },
  {
   "cell_type": "markdown",
   "metadata": {},
   "source": [
    "### Réseau 1 (le même que pour MNIST)"
   ]
  },
  {
   "cell_type": "code",
   "execution_count": 86,
   "metadata": {},
   "outputs": [
    {
     "name": "stdout",
     "output_type": "stream",
     "text": [
      "Train on 1340 samples, validate on 660 samples\n",
      "Epoch 1/15\n",
      "1340/1340 [==============================] - 41s 30ms/step - loss: 0.9200 - acc: 0.5015 - val_loss: 0.6801 - val_acc: 0.5348\n",
      "Epoch 2/15\n",
      "1340/1340 [==============================] - 40s 30ms/step - loss: 0.6810 - acc: 0.5560 - val_loss: 0.6989 - val_acc: 0.5394\n",
      "Epoch 3/15\n",
      "1340/1340 [==============================] - 44s 33ms/step - loss: 0.6788 - acc: 0.5873 - val_loss: 0.6589 - val_acc: 0.6955\n",
      "Epoch 4/15\n",
      "1340/1340 [==============================] - 41s 31ms/step - loss: 0.6443 - acc: 0.6485 - val_loss: 0.6486 - val_acc: 0.6470\n",
      "Epoch 5/15\n",
      "1340/1340 [==============================] - 42s 31ms/step - loss: 0.6135 - acc: 0.6694 - val_loss: 0.6267 - val_acc: 0.7015\n",
      "Epoch 6/15\n",
      "1340/1340 [==============================] - 40s 30ms/step - loss: 0.5578 - acc: 0.7336 - val_loss: 0.5885 - val_acc: 0.6773\n",
      "Epoch 7/15\n",
      "1340/1340 [==============================] - 46s 34ms/step - loss: 0.5051 - acc: 0.7597 - val_loss: 0.7007 - val_acc: 0.6379\n",
      "Epoch 8/15\n",
      "1340/1340 [==============================] - 43s 32ms/step - loss: 0.4517 - acc: 0.8224 - val_loss: 0.6028 - val_acc: 0.6909\n",
      "Epoch 9/15\n",
      "1340/1340 [==============================] - 44s 33ms/step - loss: 0.3653 - acc: 0.8604 - val_loss: 0.6223 - val_acc: 0.6833\n",
      "Epoch 10/15\n",
      "1340/1340 [==============================] - 45s 33ms/step - loss: 0.2672 - acc: 0.8963 - val_loss: 0.6833 - val_acc: 0.6894\n",
      "Epoch 11/15\n",
      "1340/1340 [==============================] - 50s 38ms/step - loss: 0.2350 - acc: 0.9052 - val_loss: 0.8811 - val_acc: 0.6045\n",
      "Epoch 12/15\n",
      "1340/1340 [==============================] - 47s 35ms/step - loss: 0.1573 - acc: 0.9463 - val_loss: 0.8068 - val_acc: 0.6803\n",
      "Epoch 13/15\n",
      "1340/1340 [==============================] - 39s 29ms/step - loss: 0.1354 - acc: 0.9500 - val_loss: 0.8796 - val_acc: 0.6909\n",
      "Epoch 14/15\n",
      "1340/1340 [==============================] - 41s 31ms/step - loss: 0.1124 - acc: 0.9679 - val_loss: 0.9946 - val_acc: 0.6970\n",
      "Epoch 15/15\n",
      "1340/1340 [==============================] - 40s 29ms/step - loss: 0.0700 - acc: 0.9709 - val_loss: 1.1538 - val_acc: 0.6788\n",
      "Test loss: 1.1538491176836418\n",
      "Test accuracy: 0.6787878784266386\n"
     ]
    }
   ],
   "source": [
    "model = Sequential()\n",
    "model.add(Conv2D(32, kernel_size=(3, 3),\n",
    "                 activation='relu',\n",
    "                 input_shape=(img_rows, img_cols,3))) \n",
    "model.add(Conv2D(64, (3, 3), activation='relu')) \n",
    "model.add(MaxPooling2D(pool_size=(2, 2))) #prend la valeur max sur un carré de 2, stride = 2 par défaut donc dimension/2 qu'en entrée\n",
    "model.add(Dropout(0.25)) #25% des poids forcés à 0\n",
    "model.add(Flatten()) #on prend les cartes et on les met en vecteur\n",
    "model.add(Dense(128, activation='relu')) #couche fully connected de 128 neurones (chaque neurone cablé à l'ensemble des entrées)\n",
    "model.add(Dropout(0.5))\n",
    "model.add(Dense(num_classes, activation='softmax')) #nombres de classes qu'on veut car sortie, softmax pour avoir une valeur homogène à une probabilité\n",
    "\n",
    "model.compile(loss=keras.losses.categorical_crossentropy,\n",
    "              optimizer=keras.optimizers.Adadelta(),\n",
    "              metrics=['accuracy'])\n",
    "\n",
    "model.fit(x_train, y_train,\n",
    "          batch_size=batch_size,\n",
    "          epochs=epochs,\n",
    "          verbose=1,\n",
    "          validation_data=(x_test, y_test))\n",
    "score = model.evaluate(x_test, y_test, verbose=0)\n",
    "print('Test loss:', score[0])\n",
    "print('Test accuracy:', score[1])"
   ]
  },
  {
   "cell_type": "markdown",
   "metadata": {},
   "source": [
    "On remarque que pour ce réseau, la limite est atteinte à la 9/10eme epoch. Ensuite, on remarque un phénomène d'overfitting, où le modèle continue de s'améliorer seulement sur les données d'entrainement. La loss fonction augmente sur les données de validation.\n",
    "\n",
    "### Réseau 2 "
   ]
  },
  {
   "cell_type": "code",
   "execution_count": 68,
   "metadata": {},
   "outputs": [
    {
     "name": "stdout",
     "output_type": "stream",
     "text": [
      "Train on 1340 samples, validate on 660 samples\n",
      "Epoch 1/15\n",
      "1340/1340 [==============================] - 11s 8ms/step - loss: 0.7836 - acc: 0.5134 - val_loss: 0.6902 - val_acc: 0.5076\n",
      "Epoch 2/15\n",
      "1340/1340 [==============================] - 11s 8ms/step - loss: 0.6850 - acc: 0.5403 - val_loss: 0.6866 - val_acc: 0.5182\n",
      "Epoch 3/15\n",
      "1340/1340 [==============================] - 12s 9ms/step - loss: 0.6839 - acc: 0.5642 - val_loss: 0.6651 - val_acc: 0.6379\n",
      "Epoch 4/15\n",
      "1340/1340 [==============================] - 10s 8ms/step - loss: 0.6414 - acc: 0.6507 - val_loss: 0.7647 - val_acc: 0.4955\n",
      "Epoch 5/15\n",
      "1340/1340 [==============================] - 10s 8ms/step - loss: 0.6196 - acc: 0.6858 - val_loss: 0.6402 - val_acc: 0.6561\n",
      "Epoch 6/15\n",
      "1340/1340 [==============================] - 10s 8ms/step - loss: 0.5577 - acc: 0.7366 - val_loss: 0.6434 - val_acc: 0.6409\n",
      "Epoch 7/15\n",
      "1340/1340 [==============================] - 10s 8ms/step - loss: 0.4950 - acc: 0.7828 - val_loss: 0.6783 - val_acc: 0.6545\n",
      "Epoch 8/15\n",
      "1340/1340 [==============================] - 10s 7ms/step - loss: 0.4383 - acc: 0.7940 - val_loss: 0.6320 - val_acc: 0.6773\n",
      "Epoch 9/15\n",
      "1340/1340 [==============================] - 10s 7ms/step - loss: 0.3825 - acc: 0.8493 - val_loss: 0.6604 - val_acc: 0.6773\n",
      "Epoch 10/15\n",
      "1340/1340 [==============================] - 10s 7ms/step - loss: 0.3347 - acc: 0.8649 - val_loss: 0.6915 - val_acc: 0.6682\n",
      "Epoch 11/15\n",
      "1340/1340 [==============================] - 10s 7ms/step - loss: 0.2681 - acc: 0.9000 - val_loss: 0.9531 - val_acc: 0.6333\n",
      "Epoch 12/15\n",
      "1340/1340 [==============================] - 10s 8ms/step - loss: 0.2118 - acc: 0.9201 - val_loss: 0.8428 - val_acc: 0.6561\n",
      "Epoch 13/15\n",
      "1340/1340 [==============================] - 10s 7ms/step - loss: 0.1853 - acc: 0.9269 - val_loss: 0.8501 - val_acc: 0.6727\n",
      "Epoch 14/15\n",
      "1340/1340 [==============================] - 10s 7ms/step - loss: 0.1330 - acc: 0.9560 - val_loss: 0.9386 - val_acc: 0.6727\n",
      "Epoch 15/15\n",
      "1340/1340 [==============================] - 10s 8ms/step - loss: 0.1000 - acc: 0.9724 - val_loss: 0.9509 - val_acc: 0.6652\n",
      "Test loss: 0.9509321136908098\n",
      "Test accuracy: 0.6651515144290346\n"
     ]
    }
   ],
   "source": [
    "epochs = 9\n",
    "model = Sequential()\n",
    "model.add(Conv2D(32, kernel_size=(3, 3),\n",
    "                 activation='relu',\n",
    "                 input_shape=(img_rows, img_cols,3))) \n",
    "model.add(Conv2D(32, (3, 3), activation='relu')) \n",
    "model.add(MaxPooling2D(pool_size=(2, 2))) #prend la valeur max sur un carré de 2, stride = 2 par défaut donc dimension/2 qu'en entrée\n",
    "model.add(Dropout(0.25)) #25% des poids forcés à 0\n",
    "model.add(Flatten()) #on prend les cartes et on les met en vecteur\n",
    "model.add(Dense(128, activation='relu')) #couche fully connected de 128 neurones (chaque neurone cablé à l'ensemble des entrées)\n",
    "model.add(Dropout(0.5))\n",
    "model.add(Dense(num_classes, activation='softmax')) #nombres de classes qu'on veut car sortie, softmax pour avoir une valeur homogène à une probabilité\n",
    "\n",
    "model.compile(loss=keras.losses.categorical_crossentropy,\n",
    "              optimizer=keras.optimizers.Adadelta(),\n",
    "              metrics=['accuracy'])\n",
    "\n",
    "model.fit(x_train, y_train,\n",
    "          batch_size=batch_size,\n",
    "          epochs=epochs,\n",
    "          verbose=1,\n",
    "          validation_data=(x_test, y_test))\n",
    "score = model.evaluate(x_test, y_test, verbose=0)\n",
    "print('Test loss:', score[0])\n",
    "print('Test accuracy:', score[1])"
   ]
  },
  {
   "cell_type": "code",
   "execution_count": 73,
   "metadata": {},
   "outputs": [
    {
     "data": {
      "text/plain": [
       "array([[1., 0.]], dtype=float32)"
      ]
     },
     "execution_count": 73,
     "metadata": {},
     "output_type": "execute_result"
    }
   ],
   "source": [
    "x = []\n",
    "x.append(np.array(image.load_img(\"CatsDogs/cat.0.jpg\", target_size=(img_rows, img_cols))))\n",
    "x = np.array(x)\n",
    "model.predict(x)\n"
   ]
  },
  {
   "cell_type": "code",
   "execution_count": null,
   "metadata": {},
   "outputs": [],
   "source": []
  }
 ],
 "metadata": {
  "colab": {
   "name": "TP6.ipynb",
   "provenance": [],
   "version": "0.3.2"
  },
  "kernelspec": {
   "display_name": "Python 3",
   "language": "python",
   "name": "python3"
  },
  "language_info": {
   "codemirror_mode": {
    "name": "ipython",
    "version": 3
   },
   "file_extension": ".py",
   "mimetype": "text/x-python",
   "name": "python",
   "nbconvert_exporter": "python",
   "pygments_lexer": "ipython3",
   "version": "3.6.8"
  }
 },
 "nbformat": 4,
 "nbformat_minor": 1
}
